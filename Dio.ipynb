{
  "cells": [
    {
      "cell_type": "code",
      "execution_count": null,
      "metadata": {
        "id": "H172JMehMVcp"
      },
      "outputs": [],
      "source": []
    },
    {
      "cell_type": "code",
      "execution_count": null,
      "metadata": {
        "id": "eOAjFiB8MpKI"
      },
      "outputs": [],
      "source": [
        "#langchain\n",
        "from openai import OpenAI"
      ]
    },
    {
      "cell_type": "code",
      "execution_count": null,
      "metadata": {
        "id": "OFFIZJ41UIA8"
      },
      "outputs": [],
      "source": [
        "from google.colab import userdata\n",
        "api_key = userdata.get('OPENAI_API_KEY')\n",
        "client = OpenAI(api_key=api_key)"
      ]
    },
    {
      "cell_type": "markdown",
      "source": [
        "# Test the api_key\n"
      ],
      "metadata": {
        "id": "XP1ZuSleNgOh"
      }
    },
    {
      "cell_type": "code",
      "execution_count": null,
      "metadata": {
        "colab": {
          "base_uri": "https://localhost:8080/",
          "height": 35
        },
        "id": "L0Qt3iEtQfTf",
        "outputId": "ce6c82d3-add4-4e22-b7c9-2ac776ea6432"
      },
      "outputs": [
        {
          "output_type": "execute_result",
          "data": {
            "text/plain": [
              "'The Los Angeles Dodgers won the World Series in 2020 by defeating the Tampa Bay Rays.'"
            ],
            "application/vnd.google.colaboratory.intrinsic+json": {
              "type": "string"
            }
          },
          "metadata": {},
          "execution_count": 65
        }
      ],
      "source": [
        "responsed = client.chat.completions.create(\n",
        "    model=\"gpt-3.5-turbo\",\n",
        "    messages=[\n",
        "        {\"role\": \"system\", \"content\": \"You are a helpful assistant.\"},\n",
        "        {\"role\": \"user\", \"content\": \"Who won the world series in 2020?\"}]\n",
        "\n",
        ")\n",
        "responsed.choices[0].message.content"
      ]
    },
    {
      "cell_type": "markdown",
      "source": [
        "#Scrapper"
      ],
      "metadata": {
        "id": "c-bU0dQiNlm6"
      }
    },
    {
      "cell_type": "code",
      "execution_count": null,
      "metadata": {
        "id": "c2cdA0hpUjFN"
      },
      "outputs": [],
      "source": [
        "import requests\n",
        "from bs4 import BeautifulSoup\n",
        "from urllib.parse import urljoin, urlparse\n",
        "\n",
        "def get_text_from_url(url):\n",
        "    try:\n",
        "        response = requests.get(url, timeout=10)\n",
        "        soup = BeautifulSoup(response.text, 'html.parser')\n",
        "\n",
        "        # Remove scripts, styles, and navs\n",
        "        for tag in soup([\"script\", \"style\", \"nav\", \"footer\", \"header\"]):\n",
        "            tag.decompose()\n",
        "\n",
        "        text = soup.get_text(separator=' ', strip=True)\n",
        "        return text\n",
        "    except Exception as e:\n",
        "        print(f\"Error extracting {url}: {str(e)}\")\n",
        "        return \"\"\n",
        "\n",
        "def crawl_website(base_url, max_pages=5):\n",
        "    visited = set()\n",
        "    to_visit = [base_url]\n",
        "    content = \"\"\n",
        "\n",
        "    while to_visit and len(visited) < max_pages:\n",
        "        current = to_visit.pop(0)\n",
        "        if current in visited:\n",
        "            continue\n",
        "        visited.add(current)\n",
        "        print(f\"Crawling: {current}\")\n",
        "        page_text = get_text_from_url(current)\n",
        "        content += f\"\\n\\n--- Content from: {current} ---\\n\\n{page_text}\"\n",
        "\n",
        "        try:\n",
        "            response = requests.get(current, timeout=10)\n",
        "            soup = BeautifulSoup(response.text, 'html.parser')\n",
        "            for link in soup.find_all(\"a\", href=True):\n",
        "                href = link[\"href\"]\n",
        "                full_url = urljoin(base_url, href)\n",
        "                if base_url in full_url and full_url not in visited:\n",
        "                    to_visit.append(full_url)\n",
        "        except:\n",
        "            continue\n",
        "\n",
        "    return content\n"
      ]
    },
    {
      "cell_type": "markdown",
      "source": [
        "#Save Text (To avoid constant scrape)"
      ],
      "metadata": {
        "id": "bmuYJ502NqeG"
      }
    },
    {
      "cell_type": "code",
      "execution_count": null,
      "metadata": {
        "id": "RhooKKn1UrwO",
        "colab": {
          "base_uri": "https://localhost:8080/"
        },
        "outputId": "4feeaaf8-129a-4f86-f378-0fb6bbbf464b"
      },
      "outputs": [
        {
          "output_type": "stream",
          "name": "stdout",
          "text": [
            "Crawling: https://diamondadverts.com\n",
            "Crawling: https://diamondadverts.com#content\n",
            "Crawling: https://diamondadverts.com/\n",
            "Crawling: https://diamondadverts.com/about-us/\n",
            "Crawling: https://diamondadverts.com/social-media-management/\n",
            "Crawling: https://diamondadverts.com/website-design/\n",
            "Crawling: https://diamondadverts.com/content-creation-and-branding/\n",
            "Crawling: https://diamondadverts.com/blogs/\n",
            "Crawling: https://diamondadverts.com/contact-us/\n",
            "Crawling: https://diamondadverts.com/2025-seo-hack-strategic-backlinking-that-works/\n",
            "Website content saved to site_content.txt\n"
          ]
        }
      ],
      "source": [
        "if __name__ == \"__main__\":\n",
        "    website = \"https://diamondadverts.com\"  # Replace with the client site\n",
        "    extracted_content = crawl_website(website, max_pages=10)\n",
        "\n",
        "    with open(\"site_content.txt\", \"w\", encoding=\"utf-8\") as f:\n",
        "        f.write(extracted_content)\n",
        "\n",
        "    print(\"Website content saved to site_content.txt\")\n"
      ]
    },
    {
      "cell_type": "markdown",
      "source": [
        "#Functionality Define\n",
        "For proper implementation"
      ],
      "metadata": {
        "id": "LNWE601qNyLH"
      }
    },
    {
      "cell_type": "code",
      "source": [
        "SUPPORT_EMAIL = \"inof@diamondadverts.com\"\n",
        "TOOLS = \"when asked about 'James' reply he is unavailable between 1st of January and 2nd of may\""
      ],
      "metadata": {
        "id": "ZniJ1rYDGNgc"
      },
      "execution_count": null,
      "outputs": []
    },
    {
      "cell_type": "markdown",
      "source": [
        "#Deploy"
      ],
      "metadata": {
        "id": "SFWWOsWLN9aI"
      }
    },
    {
      "cell_type": "code",
      "execution_count": null,
      "metadata": {
        "id": "GS6ono6GaPvT"
      },
      "outputs": [],
      "source": [
        "from flask import Flask, request, jsonify\n",
        "import openai\n",
        "\n",
        "app = Flask(__name__)\n",
        "\n",
        "# Load site content\n",
        "with open(\"/content/site_content.txt\", \"r\", encoding=\"utf-8\") as f:\n",
        "    WEBSITE_CONTENT = f.read()\n",
        "\n",
        "WEBSITE_URL = \"https://diamondadverts.com\"  # Replace with your site\n",
        "\n",
        "SYSTEM_PROMPT = f\"\"\"\n",
        "You are a helpful and professional assistant for the website at {WEBSITE_URL}.\n",
        "Only answer questions using this website content:\n",
        "\n",
        "{WEBSITE_CONTENT} and {TOOLS}\n",
        "\n",
        "When asked something outside the scope of {WEBSITE_CONTENT}, check {TOOLS} to answer\n",
        "\n",
        "If a question is outside the scope of the site, politely say you can't answer it.\n",
        "Always end with a suggestion to visit more aboout the website.\n",
        "When asked to speak to a human direct them to  {SUPPORT_EMAIL}\n",
        "\"\"\"\n",
        "\n",
        "@app.route(\"/chat\", methods=[\"POST\"])\n",
        "def chat():\n",
        "    data = request.json\n",
        "    user_message = data.get(\"message\")\n",
        "\n",
        "    if not user_message:\n",
        "        return jsonify({\"error\": \"No message provided.\"}), 400\n",
        "\n",
        "    try:\n",
        "        response = client.chat.completions.create(\n",
        "            model=\"gpt-3.5-turbo\",\n",
        "            messages=[\n",
        "                {\"role\": \"system\", \"content\": SYSTEM_PROMPT},\n",
        "                {\"role\": \"user\", \"content\": user_message}\n",
        "            ]\n",
        "        )\n",
        "        reply = response.choices[0].message.content.strip()\n",
        "        return jsonify({\"reply\": reply})\n",
        "    except Exception as e:\n",
        "        return jsonify({\"error\": str(e)}), 500\n",
        "\n",
        "# if __name__ == \"__main__\":\n",
        "#     app.run(debug=True)\n"
      ]
    },
    {
      "cell_type": "code",
      "source": [
        "#gradio test"
      ],
      "metadata": {
        "id": "ngSczWTcmvNh"
      },
      "execution_count": null,
      "outputs": []
    },
    {
      "cell_type": "code",
      "source": [
        "import gradio as gr\n",
        "def gradio_chat(user_message):\n",
        "    try:\n",
        "        response = client.chat.completions.create(\n",
        "            model=\"gpt-4o-mini\",\n",
        "            messages=[\n",
        "                {\"role\": \"system\", \"content\": SYSTEM_PROMPT},\n",
        "                {\"role\": \"user\", \"content\": user_message}\n",
        "            ]\n",
        "        )\n",
        "        return response.choices[0].message.content.strip()\n",
        "    except Exception as e:\n",
        "        return f\"Error: {str(e)}\"\n",
        "\n",
        "demo = gr.Interface(\n",
        "    fn=gradio_chat,\n",
        "    inputs=gr.Textbox(lines=2, placeholder=\"Ask something about the website...\"),\n",
        "    outputs=\"text\",\n",
        "    title=\"Diamond Adverts Chatbot\",\n",
        "    description=\"Ask anything about the Diamond Adverts website\"\n",
        ")\n",
        "\n",
        "demo.launch(debug=True)"
      ],
      "metadata": {
        "colab": {
          "base_uri": "https://localhost:8080/",
          "height": 680
        },
        "id": "Mr7WUMZtqzsq",
        "outputId": "62c510f1-a792-433f-8c1d-50c1748ba216"
      },
      "execution_count": null,
      "outputs": [
        {
          "output_type": "stream",
          "name": "stdout",
          "text": [
            "It looks like you are running Gradio on a hosted a Jupyter notebook. For the Gradio app to work, sharing must be enabled. Automatically setting `share=True` (you can turn this off by setting `share=False` in `launch()` explicitly).\n",
            "\n",
            "Colab notebook detected. This cell will run indefinitely so that you can see errors and logs. To turn off, set debug=False in launch().\n",
            "* Running on public URL: https://dcb5f2fd3cb4ba1679.gradio.live\n",
            "\n",
            "This share link expires in 1 week. For free permanent hosting and GPU upgrades, run `gradio deploy` from the terminal in the working directory to deploy to Hugging Face Spaces (https://huggingface.co/spaces)\n"
          ]
        },
        {
          "output_type": "display_data",
          "data": {
            "text/plain": [
              "<IPython.core.display.HTML object>"
            ],
            "text/html": [
              "<div><iframe src=\"https://dcb5f2fd3cb4ba1679.gradio.live\" width=\"100%\" height=\"500\" allow=\"autoplay; camera; microphone; clipboard-read; clipboard-write;\" frameborder=\"0\" allowfullscreen></iframe></div>"
            ]
          },
          "metadata": {}
        },
        {
          "output_type": "stream",
          "name": "stdout",
          "text": [
            "Keyboard interruption in main thread... closing server.\n",
            "Killing tunnel 127.0.0.1:7862 <> https://dcb5f2fd3cb4ba1679.gradio.live\n"
          ]
        },
        {
          "output_type": "execute_result",
          "data": {
            "text/plain": []
          },
          "metadata": {},
          "execution_count": 81
        }
      ]
    },
    {
      "cell_type": "code",
      "source": [
        "#Using_ollama\n",
        ""
      ],
      "metadata": {
        "id": "uqi1m9qmu3LK"
      },
      "execution_count": null,
      "outputs": []
    },
    {
      "cell_type": "code",
      "source": [],
      "metadata": {
        "id": "QRE1_o7pv3l2"
      },
      "execution_count": null,
      "outputs": []
    },
    {
      "cell_type": "code",
      "execution_count": 5,
      "metadata": {
        "id": "iYTt5DHQVISp",
        "colab": {
          "base_uri": "https://localhost:8080/"
        },
        "outputId": "4a05b9f6-8095-436a-b6a2-f5bd1241b03e"
      },
      "outputs": [
        {
          "output_type": "stream",
          "name": "stdout",
          "text": [
            "Raw Response Text:\n",
            "\n",
            "\n",
            "Error: Could not decode JSON from the response.\n",
            "Please check the server logs for the Ollama instance.\n"
          ]
        }
      ],
      "source": [
        "import requests\n",
        "\n",
        "OLLAMA_URL = \"https://43b6-62-49-23-111.ngrok-free.app\"\n",
        "\n",
        "payload = {\n",
        "    \"model\": \"llama3.2\",\n",
        "    \"prompt\": \"Tell me a fun fact about the moon.\",\n",
        "}\n",
        "\n",
        "response = requests.post(f\"{OLLAMA_URL}/api/generate\", json=payload)\n",
        "\n",
        "# Print the raw response text to debug\n",
        "print(\"Raw Response Text:\")\n",
        "print(response.text)\n"
      ]
    },
    {
      "cell_type": "code",
      "source": [],
      "metadata": {
        "id": "hQR4WdAuu1-9"
      },
      "execution_count": null,
      "outputs": []
    },
    {
      "cell_type": "code",
      "execution_count": null,
      "metadata": {
        "id": "3NTATtePcd98"
      },
      "outputs": [],
      "source": []
    },
    {
      "cell_type": "code",
      "execution_count": null,
      "metadata": {
        "id": "bANPEz0eMtEr"
      },
      "outputs": [],
      "source": []
    },
    {
      "cell_type": "code",
      "execution_count": null,
      "metadata": {
        "id": "KfY0F3kEVdak"
      },
      "outputs": [],
      "source": []
    },
    {
      "cell_type": "code",
      "execution_count": null,
      "metadata": {
        "id": "XNQf08FQepri"
      },
      "outputs": [],
      "source": []
    },
    {
      "cell_type": "code",
      "execution_count": null,
      "metadata": {
        "id": "irVxyLUmZzjf"
      },
      "outputs": [],
      "source": []
    }
  ],
  "metadata": {
    "colab": {
      "provenance": [],
      "toc_visible": true,
      "authorship_tag": "ABX9TyPfCifuzY90V5ghJVbqBwRA"
    },
    "kernelspec": {
      "display_name": "Python 3",
      "name": "python3"
    },
    "language_info": {
      "name": "python"
    }
  },
  "nbformat": 4,
  "nbformat_minor": 0
}